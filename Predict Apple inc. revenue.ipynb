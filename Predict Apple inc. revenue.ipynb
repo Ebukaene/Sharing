{
 "cells": [
  {
   "cell_type": "code",
   "execution_count": 161,
   "metadata": {},
   "outputs": [],
   "source": [
    "import numpy as np\n",
    "import pandas as pd\n",
    "from datetime import datetime\n",
    "import statsmodels.api as sm\n",
    "import itertools\n",
    "from sklearn.preprocessing import MinMaxScaler\n",
    "import matplotlib.pyplot as plt\n",
    "import tensorflow as tf\n",
    "from keras.layers.core import Dense, Activation, Dropout\n",
    "from keras.layers.recurrent import LSTM\n",
    "from keras.models import Sequential\n",
    "from sklearn.cross_validation import  train_test_split\n",
    "from sklearn.metrics import mean_squared_error\n",
    "import sys\n",
    "import math\n",
    "import matplotlib\n",
    "%matplotlib inline"
   ]
  },
  {
   "cell_type": "code",
   "execution_count": 162,
   "metadata": {},
   "outputs": [
    {
     "data": {
      "text/html": [
       "<div>\n",
       "<style scoped>\n",
       "    .dataframe tbody tr th:only-of-type {\n",
       "        vertical-align: middle;\n",
       "    }\n",
       "\n",
       "    .dataframe tbody tr th {\n",
       "        vertical-align: top;\n",
       "    }\n",
       "\n",
       "    .dataframe thead th {\n",
       "        text-align: right;\n",
       "    }\n",
       "</style>\n",
       "<table border=\"1\" class=\"dataframe\">\n",
       "  <thead>\n",
       "    <tr style=\"text-align: right;\">\n",
       "      <th></th>\n",
       "      <th>Quarter (Fiscal year)</th>\n",
       "      <th>Revenue (billions of US $) adjusted</th>\n",
       "    </tr>\n",
       "  </thead>\n",
       "  <tbody>\n",
       "    <tr>\n",
       "      <th>0</th>\n",
       "      <td>Q4 2018</td>\n",
       "      <td>60.000</td>\n",
       "    </tr>\n",
       "    <tr>\n",
       "      <th>1</th>\n",
       "      <td>Q3 2018</td>\n",
       "      <td>53.265</td>\n",
       "    </tr>\n",
       "    <tr>\n",
       "      <th>2</th>\n",
       "      <td>Q2 2018</td>\n",
       "      <td>61.137</td>\n",
       "    </tr>\n",
       "    <tr>\n",
       "      <th>3</th>\n",
       "      <td>Q1 2018</td>\n",
       "      <td>88.293</td>\n",
       "    </tr>\n",
       "    <tr>\n",
       "      <th>4</th>\n",
       "      <td>Q4 2017</td>\n",
       "      <td>52.579</td>\n",
       "    </tr>\n",
       "  </tbody>\n",
       "</table>\n",
       "</div>"
      ],
      "text/plain": [
       "  Quarter (Fiscal year)  Revenue (billions of US $) adjusted\n",
       "0               Q4 2018                               60.000\n",
       "1               Q3 2018                               53.265\n",
       "2               Q2 2018                               61.137\n",
       "3               Q1 2018                               88.293\n",
       "4               Q4 2017                               52.579"
      ]
     },
     "execution_count": 162,
     "metadata": {},
     "output_type": "execute_result"
    }
   ],
   "source": [
    "# Gathered Apple Inc. quarterly revenue data from 2005-2018; used LSTM to model timeseries data and predict value for next quarter.\n",
    "revenue= pd.read_csv('revenue4.csv')\n",
    "revenue.head()"
   ]
  },
  {
   "cell_type": "code",
   "execution_count": 163,
   "metadata": {},
   "outputs": [
    {
     "data": {
      "text/html": [
       "<div>\n",
       "<style scoped>\n",
       "    .dataframe tbody tr th:only-of-type {\n",
       "        vertical-align: middle;\n",
       "    }\n",
       "\n",
       "    .dataframe tbody tr th {\n",
       "        vertical-align: top;\n",
       "    }\n",
       "\n",
       "    .dataframe thead th {\n",
       "        text-align: right;\n",
       "    }\n",
       "</style>\n",
       "<table border=\"1\" class=\"dataframe\">\n",
       "  <thead>\n",
       "    <tr style=\"text-align: right;\">\n",
       "      <th></th>\n",
       "      <th>quarter</th>\n",
       "      <th>revenue</th>\n",
       "    </tr>\n",
       "  </thead>\n",
       "  <tbody>\n",
       "    <tr>\n",
       "      <th>55</th>\n",
       "      <td>Q1 2005</td>\n",
       "      <td>3.490</td>\n",
       "    </tr>\n",
       "    <tr>\n",
       "      <th>54</th>\n",
       "      <td>Q2 2005</td>\n",
       "      <td>3.243</td>\n",
       "    </tr>\n",
       "    <tr>\n",
       "      <th>53</th>\n",
       "      <td>Q3 2005</td>\n",
       "      <td>3.520</td>\n",
       "    </tr>\n",
       "    <tr>\n",
       "      <th>52</th>\n",
       "      <td>Q4 2005</td>\n",
       "      <td>3.678</td>\n",
       "    </tr>\n",
       "    <tr>\n",
       "      <th>51</th>\n",
       "      <td>Q1 2006</td>\n",
       "      <td>5.749</td>\n",
       "    </tr>\n",
       "  </tbody>\n",
       "</table>\n",
       "</div>"
      ],
      "text/plain": [
       "    quarter  revenue\n",
       "55  Q1 2005    3.490\n",
       "54  Q2 2005    3.243\n",
       "53  Q3 2005    3.520\n",
       "52  Q4 2005    3.678\n",
       "51  Q1 2006    5.749"
      ]
     },
     "execution_count": 163,
     "metadata": {},
     "output_type": "execute_result"
    }
   ],
   "source": [
    "revenue=revenue.reindex(index=revenue.index[::-1])\n",
    "revenue.columns= ['quarter', 'revenue']\n",
    "revenue.head()"
   ]
  },
  {
   "cell_type": "code",
   "execution_count": 164,
   "metadata": {},
   "outputs": [
    {
     "data": {
      "text/plain": [
       "(56, 1)"
      ]
     },
     "execution_count": 164,
     "metadata": {},
     "output_type": "execute_result"
    }
   ],
   "source": [
    "appl_revenue = revenue.revenue.values.astype('float32')\n",
    "appl_revenue = appl_revenue.reshape(56, 1)\n",
    "appl_revenue.shape\n"
   ]
  },
  {
   "cell_type": "code",
   "execution_count": 165,
   "metadata": {},
   "outputs": [
    {
     "data": {
      "text/plain": [
       "[<matplotlib.lines.Line2D at 0x132a4a5f8>]"
      ]
     },
     "execution_count": 165,
     "metadata": {},
     "output_type": "execute_result"
    },
    {
     "data": {
      "image/png": "[encoded data removed]",
      "text/plain": [
       "<Figure size 432x288 with 1 Axes>"
      ]
     },
     "metadata": {
      "needs_background": "light"
     },
     "output_type": "display_data"
    }
   ],
   "source": [
    "plt.plot(appl_revenue)"
   ]
  },
  {
   "cell_type": "code",
   "execution_count": 166,
   "metadata": {},
   "outputs": [
    {
     "name": "stdout",
     "output_type": "stream",
     "text": [
      "[1.] [0.]\n"
     ]
    },
    {
     "data": {
      "image/png": "[encoded data removed]",
      "text/plain": [
       "<Figure size 432x288 with 1 Axes>"
      ]
     },
     "metadata": {
      "needs_background": "light"
     },
     "output_type": "display_data"
    }
   ],
   "source": [
    "plt.show()\n",
    "scaler = MinMaxScaler(feature_range=(0, 1))\n",
    "appl_revenue = scaler.fit_transform(appl_revenue)\n",
    "plt.plot(appl_revenue)\n",
    "print(max(appl_revenue),min(appl_revenue))"
   ]
  },
  {
   "cell_type": "code",
   "execution_count": 167,
   "metadata": {},
   "outputs": [],
   "source": [
    "from pandas import DataFrame, datetime, concat"
   ]
  },
  {
   "cell_type": "code",
   "execution_count": 168,
   "metadata": {},
   "outputs": [],
   "source": [
    "def new_data(data, lag=1):\n",
    "    df= DataFrame(data)\n",
    "    columns = [df.shift(i) for i in range(1, lag+1)]\n",
    "    columns.append(df)\n",
    "    df = concat(columns,axis=1)\n",
    "    df.fillna(0,inplace=True)\n",
    "    return df\n",
    "\n",
    "def create_dataset2(dataset):\n",
    "    dataX= []\n",
    "    a=dataset.values\n",
    "    dataX.append(a[:,0])\n",
    "    return np.array(dataX)\n"
   ]
  },
  {
   "cell_type": "code",
   "execution_count": 169,
   "metadata": {},
   "outputs": [
    {
     "data": {
      "text/plain": [
       "(44,)"
      ]
     },
     "execution_count": 169,
     "metadata": {},
     "output_type": "execute_result"
    }
   ],
   "source": [
    "train_size = int(len(appl_revenue) * 0.8)\n",
    "test_size = len(appl_revenue) - train_size\n",
    "\n",
    "rev= new_data(appl_revenue, 1)\n",
    "f=rev.values\n",
    "\n",
    "x= create_dataset2(rev)\n",
    "x=np.transpose(x)\n",
    "trainX, testX = x[0:train_size,:], x[train_size:len(x),:]\n",
    "trainX = np.reshape(trainX, (trainX.shape[0], 1, trainX.shape[1]))\n",
    "testX = np.reshape(testX, (testX.shape[0], 1, testX.shape[1]))\n",
    "Y= f[:,1]\n",
    "trainY= Y[0:train_size,]\n",
    "testY= Y[train_size:len(Y),]\n",
    "trainY.shape"
   ]
  },
  {
   "cell_type": "code",
   "execution_count": 170,
   "metadata": {},
   "outputs": [],
   "source": [
    "step_size=1\n",
    "# LSTM MODEL\n",
    "model = Sequential()\n",
    "model.add(LSTM(32, input_shape=(1, step_size), return_sequences = True))\n",
    "model.add(LSTM(16))\n",
    "model.add(Dense(1))\n",
    "model.add(Activation('linear'))"
   ]
  },
  {
   "cell_type": "code",
   "execution_count": 171,
   "metadata": {},
   "outputs": [
    {
     "name": "stdout",
     "output_type": "stream",
     "text": [
      "Epoch 1/20\n",
      " - 5s - loss: 0.0668\n",
      "Epoch 2/20\n",
      " - 0s - loss: 0.0367\n",
      "Epoch 3/20\n",
      " - 0s - loss: 0.0306\n",
      "Epoch 4/20\n",
      " - 0s - loss: 0.0261\n",
      "Epoch 5/20\n",
      " - 0s - loss: 0.0225\n",
      "Epoch 6/20\n",
      " - 0s - loss: 0.0196\n",
      "Epoch 7/20\n",
      " - 0s - loss: 0.0173\n",
      "Epoch 8/20\n",
      " - 0s - loss: 0.0156\n",
      "Epoch 9/20\n",
      " - 0s - loss: 0.0143\n",
      "Epoch 10/20\n",
      " - 0s - loss: 0.0133\n",
      "Epoch 11/20\n",
      " - 0s - loss: 0.0129\n",
      "Epoch 12/20\n",
      " - 0s - loss: 0.0123\n",
      "Epoch 13/20\n",
      " - 0s - loss: 0.0121\n",
      "Epoch 14/20\n",
      " - 0s - loss: 0.0119\n",
      "Epoch 15/20\n",
      " - 0s - loss: 0.0117\n",
      "Epoch 16/20\n",
      " - 0s - loss: 0.0115\n",
      "Epoch 17/20\n",
      " - 0s - loss: 0.0115\n",
      "Epoch 18/20\n",
      " - 0s - loss: 0.0114\n",
      "Epoch 19/20\n",
      " - 0s - loss: 0.0113\n",
      "Epoch 20/20\n",
      " - 0s - loss: 0.0111\n"
     ]
    },
    {
     "data": {
      "text/plain": [
       "<keras.callbacks.History at 0x136da5eb8>"
      ]
     },
     "execution_count": 171,
     "metadata": {},
     "output_type": "execute_result"
    }
   ],
   "source": [
    "# Model compiling and fitting\n",
    "model.compile(loss='mean_squared_error', optimizer='adagrad') \n",
    "model.fit(trainX, trainY, epochs=20, batch_size=1, verbose=2)"
   ]
  },
  {
   "cell_type": "code",
   "execution_count": 172,
   "metadata": {},
   "outputs": [
    {
     "name": "stdout",
     "output_type": "stream",
     "text": [
      "Train RMSE: 8.85\n",
      "Test RMSE: 21.16\n"
     ]
    }
   ],
   "source": [
    "# Predictions\n",
    "trainPredict = model.predict(trainX)\n",
    "testPredict = model.predict(testX)\n",
    "\n",
    "# DE-NORMALIZING for plotting\n",
    "trainPredict = scaler.inverse_transform(trainPredict)\n",
    "trainY = scaler.inverse_transform([trainY])\n",
    "testPredict = scaler.inverse_transform(testPredict)\n",
    "testY = scaler.inverse_transform([testY])\n",
    "\n",
    "\n",
    "# TRAINING RMSE\n",
    "trainScore = math.sqrt(mean_squared_error(trainY[0], trainPredict[:,0]))\n",
    "print('Train RMSE: %.2f' % (trainScore))\n",
    "\n",
    "# TEST RMSE\n",
    "testScore = math.sqrt(mean_squared_error(testY[0], testPredict[:,0]))\n",
    "print('Test RMSE: %.2f' % (testScore))"
   ]
  },
  {
   "cell_type": "code",
   "execution_count": 173,
   "metadata": {},
   "outputs": [],
   "source": [
    "# Creating dataset for train andtest predictions\n",
    "trainPredictPlot = np.empty_like(appl_revenue)\n",
    "trainPredictPlot[:, :] = np.nan\n",
    "trainPredictPlot[step_size:len(trainPredict)+step_size, :] = trainPredict"
   ]
  },
  {
   "cell_type": "code",
   "execution_count": 174,
   "metadata": {},
   "outputs": [],
   "source": [
    "testPredictPlot = np.empty_like(appl_revenue)\n",
    "testPredictPlot[:, :] = np.nan\n",
    "testPredictPlot[len(trainPredict):len(appl_revenue), :] = testPredict"
   ]
  },
  {
   "cell_type": "code",
   "execution_count": 175,
   "metadata": {},
   "outputs": [],
   "source": [
    "# DE-NORMALIZING Revenue\n",
    "appl_revenue = scaler.inverse_transform(appl_revenue)"
   ]
  },
  {
   "cell_type": "code",
   "execution_count": 176,
   "metadata": {},
   "outputs": [
    {
     "data": {
      "image/png": "[encoded data removed]",
      "text/plain": [
       "<Figure size 432x288 with 1 Axes>"
      ]
     },
     "metadata": {
      "needs_background": "light"
     },
     "output_type": "display_data"
    }
   ],
   "source": [
    "# Plot of original revenue along with training and test predictions\n",
    "plt.plot(appl_revenue, 'g')\n",
    "plt.plot(trainPredictPlot, 'r')\n",
    "plt.plot(testPredictPlot, 'b')\n",
    "plt.show()"
   ]
  },
  {
   "cell_type": "code",
   "execution_count": 177,
   "metadata": {},
   "outputs": [
    {
     "name": "stdout",
     "output_type": "stream",
     "text": [
      "Last quarter Value: 51.34568405151367\n",
      "Next quarter Value: 50.944637298583984\n"
     ]
    }
   ],
   "source": [
    "last_val = testPredict[-1]\n",
    "last_val_scaled = last_val/last_val\n",
    "next_val = model.predict(np.reshape(last_val_scaled, (1,1,1)))\n",
    "print(\"Last quarter Value:\", np.asscalar(last_val))\n",
    "print(\"Next quarter Value:\", np.asscalar(last_val*next_val))\n"
   ]
  },
  {
   "cell_type": "code",
   "execution_count": 178,
   "metadata": {},
   "outputs": [],
   "source": [
    "# predicted q4 2018 revenue $50.94billion dollars meaning combined revenue for fiscal year 2018= $253.64 billion. According to applesrevenue guidance q4 2018 revenue expected to be around $62 billion , in hindsight maybe would have been better to use traditional timeseries modelling "
   ]
  },
  {
   "cell_type": "code",
   "execution_count": null,
   "metadata": {},
   "outputs": [],
   "source": []
  }
 ],
 "metadata": {
  "kernelspec": {
   "display_name": "Python 3",
   "language": "python",
   "name": "python3"
  },
  "language_info": {
   "codemirror_mode": {
    "name": "ipython",
    "version": 3
   },
   "file_extension": ".py",
   "mimetype": "text/x-python",
   "name": "python",
   "nbconvert_exporter": "python",
   "pygments_lexer": "ipython3",
   "version": "3.6.4"
  }
 },
 "nbformat": 4,
 "nbformat_minor": 2
}
